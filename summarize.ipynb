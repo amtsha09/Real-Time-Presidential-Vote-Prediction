{
 "cells": [
  {
   "cell_type": "code",
   "execution_count": 1,
   "metadata": {
    "collapsed": false
   },
   "outputs": [
    {
     "name": "stdout",
     "output_type": "stream",
     "text": [
      "Number of users collected:29\n",
      "\n",
      "Number of messages collected:201\n",
      "\n",
      "Number of communities discovered:2\n",
      "\n",
      "Average number of users per community:0.0\n",
      "\n",
      "Number of communities discovered:2\n",
      "\n",
      "Average number of users per community:14.5\n",
      "\n",
      "Number of instances per class found:120 ,81\n",
      "\n",
      "One example from positive class:m retweeting show respect tacoma police officer reginald jake gutierrez killed line duty ahyky e\n",
      "\n",
      "One example from negative class:forgot one thing becoming president unlike hillary loser hahahahaha\n",
      "\n",
      "Number of instances per class found :  120 ,81\n",
      "\n",
      "One example from positive class :  m retweeting show respect tacoma police officer reginald jake gutierrez killed line duty ahyky e\n",
      "\n",
      "One example from negative class :  forgot one thing becoming president unlike hillary loser hahahahaha\n",
      "\n",
      "Number of instances for positive class :  120\n",
      "\n",
      "Number of instances for negative class :  81\n",
      "\n",
      "One example from positive class :  m retweeting show respect tacoma police officer reginald jake gutierrez killed line duty ahyky e\n",
      "\n",
      "One example from negative class :  forgot one thing becoming president unlike hillary loser hahahahaha\n",
      "\n"
     ]
    }
   ],
   "source": [
    "ow = open(\"output.txt\",\"r\")\n",
    "summary = ow.readlines()\n",
    "\n",
    "for i in summary:\n",
    "    print(i)\n",
    "    \n",
    "ow.close()"
   ]
  }
 ],
 "metadata": {
  "anaconda-cloud": {},
  "kernelspec": {
   "display_name": "Python [default]",
   "language": "python",
   "name": "python3"
  },
  "language_info": {
   "codemirror_mode": {
    "name": "ipython",
    "version": 3
   },
   "file_extension": ".py",
   "mimetype": "text/x-python",
   "name": "python",
   "nbconvert_exporter": "python",
   "pygments_lexer": "ipython3",
   "version": "3.5.2"
  }
 },
 "nbformat": 4,
 "nbformat_minor": 1
}
