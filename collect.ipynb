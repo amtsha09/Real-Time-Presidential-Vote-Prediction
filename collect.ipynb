{
 "cells": [
  {
   "cell_type": "markdown",
   "metadata": {},
   "source": [
    "# collect.py"
   ]
  },
  {
   "cell_type": "code",
   "execution_count": 5,
   "metadata": {},
   "outputs": [],
   "source": [
    "from TwitterAPI import TwitterAPI\n",
    "import re\n",
    "import sys\n",
    "import time\n",
    "import os\n",
    "tweet_list = []\n",
    "donald = []\n"
   ]
  },
  {
   "cell_type": "code",
   "execution_count": 6,
   "metadata": {
    "collapsed": true
   },
   "outputs": [],
   "source": [
    "# twitter keys\n",
    "\n",
    "consumer_key = 'xxxxxxxxxxxxxxxxxxxxx'\n",
    "consumer_secret = 'xxxxxxxxxxxxxxxxxxxxx'\n",
    "access_token_key = 'xxxxxxxxxxxxxxxxxxxxx-xxxxxxxxxxxxxxxxxxxxx'\n",
    "access_token_secret = 'xxxxxxxxxxxxxxxxxxxxx'"
   ]
  },
  {
   "cell_type": "code",
   "execution_count": 7,
   "metadata": {},
   "outputs": [],
   "source": [
    "def get_twitter():\n",
    "    return TwitterAPI(consumer_key, consumer_secret, access_token_key, access_token_secret)"
   ]
  },
  {
   "cell_type": "code",
   "execution_count": 8,
   "metadata": {
    "collapsed": true
   },
   "outputs": [],
   "source": [
    "def robust_request(twitter, resource, params, max_tries=5):\n",
    "    for i in range(max_tries):\n",
    "        request = twitter.request(resource, params)\n",
    "        if request.status_code == 200:\n",
    "            return request\n",
    "        else:\n",
    "            print('Got error %s \\nsleeping for 15 minutes.' % request.text)\n",
    "            sys.stderr.flush()\n",
    "            time.sleep(61 * 15)"
   ]
  },
  {
   "cell_type": "code",
   "execution_count": 9,
   "metadata": {},
   "outputs": [],
   "source": [
    "def get_tweets(twitter):\n",
    "\n",
    "    c = 0\n",
    "\n",
    "\n",
    "    nd=open(\"nodes.txt\",\"w\")\n",
    "    tw = open(\"tweets.txt\",\"w\")\n",
    "    while True and c<=200:\n",
    "\n",
    "        r = robust_request(twitter,'statuses/filter', {'track':'realdonaldtrump','language':'en'})\n",
    "        for item in r:\n",
    "\n",
    "            if item['user']['friends_count'] >= 1000:\n",
    "                if len(donald)<=28 and item['user']['screen_name'] not in donald:\n",
    "                    donald.append(item['user']['screen_name'].strip())\n",
    "                    nd.write(item['user']['screen_name'].strip())\n",
    "                    nd.write(\"\\n\")\n",
    "            \n",
    "            tweet = item['text'].lower()\n",
    "            if not tweet.startswith('rt') and tweet not in tweet_list:\n",
    "                tweet = re.sub('@[^\\s]+','',tweet)\n",
    "                tweet = re.sub(r'#([^\\s]+)', r'\\1', tweet)\n",
    "                tweet = re.sub('[0-9]+', \" \",tweet)\n",
    "                tweet = re.sub('[\\s]+',\" \", tweet)\n",
    "                tweet = re.sub('http\\S+', \" \", tweet)\n",
    "                tweet = re.sub('@\\S+', \"\", tweet)\n",
    "                tweet = re.sub('\\W+', \" \", tweet)\n",
    "                tweet = tweet.strip()\n",
    "\n",
    "                tweet_list.append(tweet)\n",
    "                tw.write(tweet)\n",
    "                tw.write(\"\\n\")\n",
    "\n",
    "                c +=1\n",
    "                if c >= 200:\n",
    "                    break\n",
    "    nd.close()\n",
    "    tw.close()\n"
   ]
  },
  {
   "cell_type": "code",
   "execution_count": 10,
   "metadata": {
    "collapsed": true
   },
   "outputs": [],
   "source": [
    "def main():\n",
    "    twitter = get_twitter()\n",
    "    get_tweets(twitter)\n",
    "    ow = open(\"output.txt\",\"a\")\n",
    "    ow.write(\"Number of users collected:\" + str(len(donald)))\n",
    "    ow.write(\"\\n\")\n",
    "    ow.write(\"Number of messages collected:\" + str(len(tweet_list)))\n",
    "    ow.write(\"\\n\")\n",
    "\n",
    "    ow.close()\n"
   ]
  },
  {
   "cell_type": "code",
   "execution_count": 11,
   "metadata": {},
   "outputs": [],
   "source": [
    "if __name__ == '__main__':\n",
    "    main()\n"
   ]
  }
 ],
 "metadata": {
  "anaconda-cloud": {},
  "kernelspec": {
   "display_name": "Python 3",
   "language": "python",
   "name": "python3"
  },
  "language_info": {
   "codemirror_mode": {
    "name": "ipython",
    "version": 3
   },
   "file_extension": ".py",
   "mimetype": "text/x-python",
   "name": "python",
   "nbconvert_exporter": "python",
   "pygments_lexer": "ipython3",
   "version": "3.6.1"
  }
 },
 "nbformat": 4,
 "nbformat_minor": 1
}
