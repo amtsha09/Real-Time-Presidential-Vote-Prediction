{
 "cells": [
  {
   "cell_type": "markdown",
   "metadata": {},
   "source": [
    "# classify"
   ]
  },
  {
   "cell_type": "code",
   "execution_count": 1,
   "metadata": {
    "collapsed": true
   },
   "outputs": [],
   "source": [
    "import json\n",
    "import re\n",
    "import sys\n",
    "import os\n",
    "from sklearn.feature_extraction.text import CountVectorizer\n",
    "from sklearn.linear_model import LogisticRegression"
   ]
  },
  {
   "cell_type": "code",
   "execution_count": 2,
   "metadata": {
    "collapsed": true
   },
   "outputs": [],
   "source": [
    "def generateStopWordList():\n",
    "\n",
    "    stopWords_dataset = \"stopwords.txt\"\n",
    "\n",
    "    stopWords = []\n",
    "\n",
    "    try:\n",
    "        fp = open(stopWords_dataset, 'r')\n",
    "        line = fp.readline()\n",
    "        while line:\n",
    "            word = line.strip()\n",
    "            stopWords.append(word)\n",
    "            line = fp.readline()\n",
    "        fp.close()\n",
    "    except:\n",
    "        print(\"ERROR: Opening File\")\n",
    "\n",
    "    return stopWords"
   ]
  },
  {
   "cell_type": "code",
   "execution_count": 4,
   "metadata": {
    "collapsed": true
   },
   "outputs": [],
   "source": [
    "# processing of the data i.e. cleaning\n",
    "\n",
    "def preprocessing(dataSet):\n",
    "\n",
    "    processed_data = []\n",
    "\n",
    "    stopWords = generateStopWordList()\n",
    "\n",
    "    for tweet in dataSet:\n",
    "\n",
    "        temp_tweet = tweet\n",
    "\n",
    "        tweet = re.sub('@[^\\s]+','',tweet).lower()\n",
    "        tweet.replace(temp_tweet, tweet)\n",
    "\n",
    "        tweet = re.sub('[\\s]+',' ', tweet)\n",
    "        tweet.replace(temp_tweet,tweet)\n",
    "\n",
    "        tweet = re.sub(r'#([^\\s]+)', r'\\1', tweet)\n",
    "\n",
    "        tweet = re.sub('[0-9]+', \"\",tweet)\n",
    "        tweet.replace(temp_tweet,tweet)\n",
    "\n",
    "        for sw in stopWords:\n",
    "            if sw in tweet:\n",
    "                tweet = re.sub(r'\\b' + sw + r'\\b'+\" \",\"\",tweet)\n",
    "\n",
    "        tweet.replace(temp_tweet, tweet)\n",
    "\n",
    "        tweet = re.sub('[^a-zA-z ]',\"\",tweet)\n",
    "        tweet.replace(temp_tweet,tweet)\n",
    "\n",
    "        tweet = re.sub('[\\s]+',' ', tweet)\n",
    "        tweet.replace(temp_tweet,tweet)\n",
    "        \n",
    "        tweet = tweet.strip()\n",
    "        \n",
    "\n",
    "\n",
    "        processed_data.append(tweet)\n",
    "\n",
    "    return processed_data\n"
   ]
  },
  {
   "cell_type": "code",
   "execution_count": 5,
   "metadata": {
    "collapsed": false
   },
   "outputs": [],
   "source": [
    "positive_data = open(\"positive.txt\").readlines()\n",
    "positive_data = preprocessing(positive_data)\n",
    "\n",
    "negative_data = open(\"negative.txt\").readlines()\n",
    "negative_data = preprocessing(negative_data)\n",
    "\n",
    "test_data = open(\"tweets.txt\").readlines()\n",
    "test_data = preprocessing(test_data)\n",
    "\n",
    "train_data = positive_data + negative_data\n",
    "train_label = [1]*len(positive_data)+[0]*len(negative_data)\n"
   ]
  },
  {
   "cell_type": "code",
   "execution_count": 6,
   "metadata": {
    "collapsed": false
   },
   "outputs": [],
   "source": [
    "vectorizer = CountVectorizer(min_df=1, stop_words='english')\n",
    "train_vector = vectorizer.fit_transform(train_data)\n",
    "# print(\"number of instances and number of features are : \",X.toarray().shape[0],X.toarray().shape[1])\n",
    "# features = vectorizer.get_feature_names()\n",
    "# print(len(features))\n",
    "test_vector = vectorizer.transform(test_data)"
   ]
  },
  {
   "cell_type": "code",
   "execution_count": 19,
   "metadata": {
    "collapsed": false
   },
   "outputs": [
    {
     "name": "stdout",
     "output_type": "stream",
     "text": [
      "[0 1 0 1 1 1 0 0 0 1 1 0 1 0 0 1 1 0 1 1 0 1 1 1 1 1 0 1 1 1 0 0 1 0 0 0 1\n",
      " 1 1 1 1 0 1 1 1 0 1 1 1 1 0 0 0 1 1 1 0 1 0 0 1 0 0 1 0 0 1 0 0 1 1 0 1 1\n",
      " 1 1 1 0 1 1 1 1 1 1 1 0 1 1 1 1 1 0 1 1 0 1 1 1 0 1 0 0 0 1 1 0 0 0 0 1 1\n",
      " 1 0 0 1 1 0 1 0 0 0 1 0 1 0 1 0 0 0 0 0 1 0 1 1 1 1 0 1 0 1 1 1 1 0 1 1 1\n",
      " 1 0 1 1 1 0 1 0 0 0 0 1 0 1 1 0 1 1 0 1 1 1 0 0 1 0 1 1 0 1 1 0 1 1 0 1 1\n",
      " 1 0 0 1 1 1 0 0 0 1 1 0 1 1 1 1]\n"
     ]
    }
   ],
   "source": [
    "lr = LogisticRegression()\n",
    "clfr = lr.fit(train_vector,train_label)\n",
    "pred = lr.predict(test_vector)\n",
    "print(pred)"
   ]
  },
  {
   "cell_type": "code",
   "execution_count": 20,
   "metadata": {
    "collapsed": false
   },
   "outputs": [],
   "source": [
    "pw = open(\"prediction.txt\",\"w\")\n",
    "\n",
    "for i in pred:\n",
    "    pw.write(str(i))\n",
    "    pw.write(\"\\n\")\n",
    "pw.close()\n"
   ]
  },
  {
   "cell_type": "code",
   "execution_count": 21,
   "metadata": {
    "collapsed": false
   },
   "outputs": [
    {
     "name": "stdout",
     "output_type": "stream",
     "text": [
      "[0, 1, 0, 1, 1, 1, 0, 0, 0, 1, 1, 0, 1, 0, 0, 1, 1, 0, 1, 1, 0, 1, 1, 1, 1, 1, 0, 1, 1, 1, 0, 0, 1, 0, 0, 0, 1, 1, 1, 1, 1, 0, 1, 1, 1, 0, 1, 1, 1, 1, 0, 0, 0, 1, 1, 1, 0, 1, 0, 0, 1, 0, 0, 1, 0, 0, 1, 0, 0, 1, 1, 0, 1, 1, 1, 1, 1, 0, 1, 1, 1, 1, 1, 1, 1, 0, 1, 1, 1, 1, 1, 0, 1, 1, 0, 1, 1, 1, 0, 1, 0, 0, 0, 1, 1, 0, 0, 0, 0, 1, 1, 1, 0, 0, 1, 1, 0, 1, 0, 0, 0, 1, 0, 1, 0, 1, 0, 0, 0, 0, 0, 1, 0, 1, 1, 1, 1, 0, 1, 0, 1, 1, 1, 1, 0, 1, 1, 1, 1, 0, 1, 1, 1, 0, 1, 0, 0, 0, 0, 1, 0, 1, 1, 0, 1, 1, 0, 1, 1, 1, 0, 0, 1, 0, 1, 1, 0, 1, 1, 0, 1, 1, 0, 1, 1, 1, 0, 0, 1, 1, 1, 0, 0, 0, 1, 1, 0, 1, 1, 1, 1]\n",
      "1\n"
     ]
    }
   ],
   "source": [
    "pred1 = pred.tolist()\n"
   ]
  },
  {
   "cell_type": "code",
   "execution_count": 27,
   "metadata": {
    "collapsed": false
   },
   "outputs": [],
   "source": [
    "ow = open(\"output.txt\",\"a\")\n",
    "ow.write(\"Number of instances for positive class :  \" + str(sum(pred)) )\n",
    "ow.write(\"\\n\")\n",
    "ow.write(\"Number of instances for negative class :  \" + str(len(pred)-sum(pred)))\n",
    "ow.write(\"\\n\")\n",
    "ow.write(\"One example from positive class :  \" + test_data[pred1.index(1)])\n",
    "ow.write(\"\\n\")\n",
    "ow.write(\"One example from negative class :  \" + test_data[pred1.index(0)])\n",
    "ow.write(\"\\n\")\n",
    "\n",
    "ow.close()\n",
    "\n"
   ]
  }
 ],
 "metadata": {
  "anaconda-cloud": {},
  "kernelspec": {
   "display_name": "Python [default]",
   "language": "python",
   "name": "python3"
  },
  "language_info": {
   "codemirror_mode": {
    "name": "ipython",
    "version": 3
   },
   "file_extension": ".py",
   "mimetype": "text/x-python",
   "name": "python",
   "nbconvert_exporter": "python",
   "pygments_lexer": "ipython3",
   "version": "3.5.2"
  }
 },
 "nbformat": 4,
 "nbformat_minor": 1
}
